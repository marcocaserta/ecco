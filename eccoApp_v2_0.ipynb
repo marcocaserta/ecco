{
  "nbformat": 4,
  "nbformat_minor": 0,
  "metadata": {
    "colab": {
      "name": "eccoApp_v2.0.ipynb",
      "version": "0.3.2",
      "provenance": [],
      "include_colab_link": true
    },
    "kernelspec": {
      "name": "python2",
      "display_name": "Python 2"
    }
  },
  "cells": [
    {
      "cell_type": "markdown",
      "metadata": {
        "id": "view-in-github",
        "colab_type": "text"
      },
      "source": [
        "[View in Colaboratory](https://colab.research.google.com/github/marcocaserta/ecco/blob/master/eccoApp_v2_0.ipynb)"
      ]
    },
    {
      "metadata": {
        "id": "dwEm8igMmtdd",
        "colab_type": "text"
      },
      "cell_type": "markdown",
      "source": [
        "# ECCO Dataset Analysis\n",
        "\n",
        "The `Overlap` parameter allows to select sentences with a specified number of common words between the query and the sentences found by the algorith.\n",
        "\n",
        "This app uses two steps:\n",
        "\n",
        "\n",
        "1.   Solution file selection\n",
        "2.   Analysis and plots\n",
        "\n"
      ]
    },
    {
      "metadata": {
        "id": "zlb70uOcdJI2",
        "colab_type": "code",
        "colab": {}
      },
      "cell_type": "code",
      "source": [
        "#@title \n",
        "\n",
        "from google.colab import widgets\n",
        "from google.colab import output   \n",
        "import matplotlib.pyplot as plt\n",
        "from __future__ import print_function\n",
        "import itertools\n",
        "from google.colab import files\n",
        "import numpy as np\n",
        "import pandas as pd\n",
        "import io, os\n",
        "import re, string\n",
        "import textwrap\n",
        "import html\n",
        "from IPython.display import display, HTML\n",
        "import sys\n",
        "sys.path.append('local_modules/ecco_modules/')\n",
        "import ecco\n",
        "\n",
        "#@title\n",
        "uploaded = files.upload()\n",
        "for fn in uploaded.keys():\n",
        "  print('User uploaded file \"{name}\" with length {length} bytes'.format(name=fn, length=len(uploaded[fn])))\n",
        "  \n",
        "dfAux = pd.read_csv(io.StringIO(uploaded[fn].decode('utf-8')))\n",
        "\n",
        "# separate query and results\n",
        "dfQuery = dfAux.iloc[-1]\n",
        "dfAux = dfAux.iloc[:-1]\n",
        "df, dfQuery, lenQuery = ecco.createDataFrame(dfAux, dfQuery)\n",
        "\n",
        "#@title Parameters :\n",
        "Overlap = 0 #@param {type:\"slider\", min:0, max:10, step:1}\n",
        "\n",
        "global df, dfQuery\n",
        "lenQuery = len(dfQuery.tokenized)\n",
        "if Overlap > lenQuery:\n",
        "  print(\"o vs l\", Overlap, \" \", lenQuery)\n",
        "  Overlap = lenQuery\n",
        "  \n",
        "nTop = len(df)\n",
        "periods = np.arange(1796,1801)\n",
        "\n",
        "def create_tab(location): \n",
        "  tb = widgets.TabBar(['Analysis', 'Charts'], location=location)\n",
        "  with tb.output_to('Analysis'):\n",
        "    ddf  = df[ df.nShared== Overlap]\n",
        "    listBlock = ecco.createBlocks(ddf)\n",
        "    txt=(\"<h4><p><b>[\" + str(np.round(Overlap/lenQuery,2)) + \" ] Found \" + str(len(ddf)) + \"/\" + str(len(df)) + \" sentences : </b></p></h4>\"   )\n",
        "    display(HTML(txt))\n",
        "    for w in listBlock:\n",
        "      #print(textwrap.fill(w,width=Text_width,  initial_indent='', subsequent_indent='    '))\n",
        "      display(HTML(w))\n",
        "  with tb.output_to(1,select=False):\n",
        "    table     = ecco.createTable(df, lenQuery)\n",
        "    tableYear = ecco.createTableYear(df,periods)\n",
        "    tableWord = ecco.createTableWords(df,nTop)\n",
        "\n",
        "    grid = widgets.Grid(2,3,header_row=False, header_column=False, style=output)\n",
        "    with grid.output_to(0,0):\n",
        "           display(HTML(\"<center><u>Frequence of Overlaps</u></center>\" ))\n",
        "           display(table)\n",
        "    with grid.output_to(0,1):\n",
        "           display(HTML(\"<u>Frequence Per Year</u>\" ))\n",
        "           display(tableYear)\n",
        "    with grid.output_to(0,2):\n",
        "           display(HTML(\"<center><u>Words Distribution</u></center>\" ))\n",
        "           display(tableWord)\n",
        "    with grid.output_to(1,0):\n",
        "      ecco.createChart1(df, lenQuery)\n",
        "    with grid.output_to(1,1):\n",
        "      ecco.createChart2(df, lenQuery)\n",
        "    with grid.output_to(1,2):\n",
        "      ecco.createChart3(tableWord, lenQuery)\n",
        "\n",
        "         \n",
        "\n",
        "title=ecco.setTitle(dfQuery)\n",
        "display(HTML(title))\n",
        "create_tab(\"top\")\n",
        "\n",
        "\n",
        "  "
      ],
      "execution_count": 0,
      "outputs": []
    }
  ]
}