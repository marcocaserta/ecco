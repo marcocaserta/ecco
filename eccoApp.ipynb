{
  "nbformat": 4,
  "nbformat_minor": 0,
  "metadata": {
    "colab": {
      "name": "eccoApp.ipynb",
      "version": "0.3.2",
      "provenance": [],
      "include_colab_link": true
    },
    "kernelspec": {
      "name": "python3",
      "display_name": "Python 3"
    }
  },
  "cells": [
    {
      "cell_type": "markdown",
      "metadata": {
        "id": "view-in-github",
        "colab_type": "text"
      },
      "source": [
        "[View in Colaboratory](https://colab.research.google.com/github/marcocaserta/ecco/blob/master/eccoApp.ipynb)"
      ]
    },
    {
      "metadata": {
        "id": "DpRfnY4X2bFp",
        "colab_type": "code",
        "colab": {
          "base_uri": "https://localhost:8080/",
          "height": 36
        },
        "outputId": "b4243781-3d3a-4452-d893-02e0c71e25e6"
      },
      "cell_type": "code",
      "source": [
        "from google.colab import widgets\n",
        "from google.colab import output   \n",
        "import matplotlib.pyplot as plt\n",
        "from __future__ import print_function\n",
        "import itertools\n",
        "from google.colab import files\n",
        "import numpy as np\n",
        "import pandas as pd\n",
        "import io, os\n",
        "import re, string\n",
        "import textwrap\n",
        "import html\n",
        "from IPython.display import display, HTML\n"
      ],
      "execution_count": 0,
      "outputs": []
    },
    {
      "metadata": {
        "id": "dpsw1K6ic51U",
        "colab_type": "code",
        "colab": {
          "base_uri": "https://localhost:8080/",
          "height": 16
        },
        "outputId": "8f4f3ac4-4ccc-4ac2-eb7d-6ec485074d41"
      },
      "cell_type": "code",
      "source": [
        "class color:\n",
        "   PURPLE = '\\033[95m'\n",
        "   CYAN = '\\033[96m'\n",
        "   DARKCYAN = '\\033[36m'\n",
        "   BLUE = '\\033[94m'\n",
        "   GREEN = '\\033[92m'\n",
        "   YELLOW = '\\033[93m'\n",
        "   RED = '\\033[91m'\n",
        "   BOLD = '\\033[1m'\n",
        "   DIM  =  '\\033[90m'\n",
        "   UNDERLINE = '\\033[4m'\n",
        "   ITALIC =  '\\033[3m'\n",
        "   BULLET = '\\u2022'\n",
        "   END = '\\033[0m '\n",
        "\n",
        "#print(color.ITALIC + 'Hello World !' + color.END)\n",
        "#print(color.DIM +  'First sentence')\n",
        "#print(html.unescape(\"&#x0027;\"))\n",
        "\n",
        "#display(HTML(\"HERE is &#x0027;\"))\n"
      ],
      "execution_count": 361,
      "outputs": []
    },
    {
      "metadata": {
        "id": "1XMwu0o7IKjw",
        "colab_type": "code",
        "colab": {
          "base_uri": "https://localhost:8080/",
          "height": 36
        },
        "outputId": "67763083-f23a-4030-acaa-e0414a0fb8d4"
      },
      "cell_type": "code",
      "source": [
        "def createDataFrame(df, dfQuery):\n",
        "  count             = []\n",
        "  percent           = []\n",
        "  dfQuery.tokenized = tknz(dfQuery.tokenized)\n",
        "  lenQuery        = len(dfQuery.tokenized)\n",
        "  for i in range(len(df)):\n",
        "      vect     = tknz(df.iloc[i].tokenized)\n",
        "      nSent    = len(vect)\n",
        "      nShared  = sum([w in vect for w in dfQuery.tokenized])\n",
        "      count.append(nShared)\n",
        "      percent.append(nShared/lenQuery)\n",
        "  df[\"nShared\"] = count\n",
        "  df[\"percent\"] = percent\n",
        "\n",
        "  return df, dfQuery, lenQuery\n",
        "\n",
        "# preprocess tokenized senteces\n",
        "def tknz(sentence):\n",
        "  sentence = sentence.strip(\"[,']\")\n",
        "  regex = re.compile(' [%s]' % re.escape(string.punctuation))\n",
        "  sentence = regex.sub('', sentence)\n",
        "  vect = sentence.strip(\",\").split(\"'\")\n",
        "  final = [w.strip(\",\") for w in vect]\n",
        "  return final\n",
        "\n",
        "def setTitle(dfQuery):\n",
        "    titleText = \"<center><h4>Query : <b>\" + dfQuery.sentence.strip(\"[] '\") + \"</b> </h4>\"\n",
        "    titleText += \"<i>\" + str(dfQuery.tokenized) + \"</i></center>\"\n",
        "    return titleText\n",
        "\n",
        "def setTitle2(dfQuery):\n",
        "  \n",
        "    titleText = \"Query : \" + color.BOLD + dfQuery.sentence.strip(\"[] '\") + color.END + \"\\n\"\n",
        "    titleText += color.ITALIC + str(dfQuery.tokenized) + color.END\n",
        "    return titleText\n",
        "  \n",
        "def formatting(sent,i):\n",
        "    block= \"<li>\" + sent.previous.strip(\"[] '\") + \" \" \n",
        "    block+= \"<b>\" + sent.sentence.strip(\"[] '\") + \"</b>\" + \" \"\n",
        "    block+= sent.next.strip(\"[] '\") + \"</li>\"\n",
        "    block+= \"<font color='#999999' size='1'>(\" + str(i+1) + \"-Sentence id = \" + str(sent.id)\n",
        "    block+= \"; score = \" + str(np.round(sent.score,3))\n",
        "    block+= \"; overlap = \" + str(np.round(sent.percent,2))\n",
        "    block+= \"; keywords = \" + sent.tokenized + \") </font>\"\n",
        "    return block\n",
        "\n",
        "def formatting2(sent,i):\n",
        "  block = color.BULLET + \" \" + html.unescape(sent.previous.strip(\"[] '\")) + \" \" \n",
        "  block+= color.BOLD + \" \" + html.unescape(sent.sentence.strip(\"[] '\")) + color.END + \" \"\n",
        "  block+= html.unescape(sent.next.strip(\"[] '\")) + \"\\n\"\n",
        "  block+= color.DIM + \"\\n(\" + str(i+1) + \"-Sentence id = \" + str(sent.id)\n",
        "  block+= \"; score = \" + str(np.round(sent.score,3))\n",
        "  block+= \"; overlap = \" + str(np.round(sent.percent,2))\n",
        "  block+= \"; keywords = \" + sent.tokenized + \")\" + color.END\n",
        "  return block\n",
        "\n",
        "def createBlocks(ddf):\n",
        "  if len(ddf) == 0:\n",
        "    return []\n",
        "  ww = []\n",
        "  for i in range(len(ddf)):\n",
        "      block = formatting(ddf.iloc[i],i)\n",
        "      ww.append(block)  \n",
        "  return ww"
      ],
      "execution_count": 293,
      "outputs": []
    },
    {
      "metadata": {
        "id": "CW4FcqZmDiTv",
        "colab_type": "code",
        "colab": {
          "base_uri": "https://localhost:8080/",
          "height": 36
        },
        "outputId": "ea2659e6-fb1c-4a1e-946e-45ab9dd420b4"
      },
      "cell_type": "code",
      "source": [
        "\n",
        "def createTable(nQuery):\n",
        "    bins = [i for i in range(nQuery+1)]\n",
        "    ncounting = []\n",
        "    for pp in bins:\n",
        "        ncounting.append(df.loc[df.nShared==pp, 'nShared' ].count())\n",
        "    table = pd.DataFrame({\n",
        "        \"nr. words\" : bins,\n",
        "        \"percent\" : [np.round(i/nQuery,3) for i in bins],\n",
        "        \"freq\"    : ncounting\n",
        "    })\n",
        "    table = table.reindex(['nr. words', 'percent','freq'], axis=1)\n",
        "    return table\n",
        "  \n",
        "def createTableYear(df,periods):\n",
        "    ncounting = []\n",
        "    bins = periods\n",
        "    for yy in bins:\n",
        "      ncounting.append(df.loc[df.year==yy, 'year'].count())\n",
        "    tableYear = pd.DataFrame({\"year\": bins, \"freq\":ncounting})\n",
        "    tableYear = tableYear.reindex(['year','freq'], axis=1)\n",
        "    return tableYear\n",
        "  \n",
        "def createTableWords(df):\n",
        "    nWords = 10\n",
        "    vecs = []\n",
        "    for i in range(len(df)):\n",
        "      vect = tknz(df.iloc[i].tokenized)\n",
        "      vecs.append(vect)\n",
        "    dd = {key:0 for i in range(nTop) for key in vecs[i] }\n",
        "    for i in range(nTop):\n",
        "        for w in vecs[i]:\n",
        "            dd[w] += 1\n",
        "\n",
        "    words = sorted(dd, key=dd.get, reverse=True)[:nWords]\n",
        "    vals  = [dd[w] for w in words]\n",
        "    percent = [np.round(v/nTop, 3) for v in vals]\n",
        "    dfWords= pd.DataFrame({\"word\":words,\"freq\":vals, \"percent\": percent})\n",
        "    dfWords = dfWords.reindex(['word', 'percent','freq'], axis=1)\n",
        "    return dfWords\n",
        "  \n",
        "def createChart1(df, lenQuery):\n",
        "    plt.figure(figsize=(4,4)) \n",
        "    bins = [i for i in range(lenQuery+1)]\n",
        "    ax = plt.gca()\n",
        "    ax.hist(df.nShared, bins=bins, edgecolor=\"white\", linewidth=1.5, alpha=0.9, align=\"left\")\n",
        "    ax.set_xticks(bins)\n",
        "    ax.set_title(\"Distribution of Sentences over Overlap Values\")\n",
        "    plt.show()\n",
        "\n",
        "def createChart2(df, lenQuery):\n",
        "    plt.figure(figsize=(4,4)) \n",
        "    ax = plt.gca()\n",
        "    bins = np.arange(np.min(df.year), np.max(df.year)+2)\n",
        "    ax.hist(df.year, bins=bins, align=\"left\", edgecolor=\"white\", linewidth=1.5, alpha=0.9)\n",
        "    ax.set_xticks(bins[:-1])\n",
        "    ax.set_title(\"Distribution of Top Sentences over Time Period\")\n",
        "\n",
        "    \n",
        "def createChart3(dfWords, lenQuery):\n",
        "    plt.figure(figsize=(4,4)) \n",
        "    ax = plt.gca()\n",
        "    ax.bar(dfWords.word,dfWords.freq, edgecolor=\"white\", linewidth=1.5, alpha=0.9)\n",
        "    for tick in ax.get_xticklabels():\n",
        "      tick.set_rotation(60)\n",
        "    ax.set_title(\"Distribution of Words among Top Sentences\")\n",
        "    plt.show()\n"
      ],
      "execution_count": 347,
      "outputs": []
    },
    {
      "metadata": {
        "id": "j5IDam7xJ-6k",
        "colab_type": "code",
        "colab": {
          "base_uri": "https://localhost:8080/",
          "height": 93
        },
        "outputId": "9d70b383-4fa6-44f9-b03c-5cfdaa028d62"
      },
      "cell_type": "code",
      "source": [
        "uploaded = files.upload()\n",
        "for fn in uploaded.keys():\n",
        "  print('User uploaded file \"{name}\" with length {length} bytes'.format(name=fn, length=len(uploaded[fn])))\n",
        "  \n",
        "dfAux = pd.read_csv(io.StringIO(uploaded[fn].decode('utf-8')))\n",
        "\n",
        "# separate query and results\n",
        "dfQuery = dfAux.iloc[-1]\n",
        "dfAux = dfAux.iloc[:-1]\n",
        "df, dfQuery, lenQuery = createDataFrame(dfAux, dfQuery)"
      ],
      "execution_count": 345,
      "outputs": [
        {
          "output_type": "display_data",
          "data": {
            "text/html": [
              "\n",
              "     <input type=\"file\" id=\"files-0fecdb42-9435-4737-aabb-643b6af164b8\" name=\"files[]\" multiple disabled />\n",
              "     <output id=\"result-0fecdb42-9435-4737-aabb-643b6af164b8\">\n",
              "      Upload widget is only available when the cell has been executed in the\n",
              "      current browser session. Please rerun this cell to enable.\n",
              "      </output>\n",
              "      <script src=\"/nbextensions/google.colab/files.js\"></script> "
            ],
            "text/plain": [
              "<IPython.core.display.HTML object>"
            ]
          },
          "metadata": {
            "tags": []
          }
        },
        {
          "output_type": "stream",
          "text": [
            "Saving sol.csv to sol (8).csv\n",
            "User uploaded file \"sol.csv\" with length 225054 bytes\n"
          ],
          "name": "stdout"
        }
      ]
    },
    {
      "metadata": {
        "id": "hAzxf-bi68ok",
        "colab_type": "code",
        "colab": {
          "resources": {
            "http://localhost:8080/nbextensions/google.colab/tabbar.css": {
              "data": "Lmdvb2ctdGFie3Bvc2l0aW9uOnJlbGF0aXZlO3BhZGRpbmc6NHB4IDhweDtjb2xvcjojMDBjO3RleHQtZGVjb3JhdGlvbjp1bmRlcmxpbmU7Y3Vyc29yOmRlZmF1bHR9Lmdvb2ctdGFiLWJhci10b3AgLmdvb2ctdGFie21hcmdpbjoxcHggNHB4IDAgMDtib3JkZXItYm90dG9tOjA7ZmxvYXQ6bGVmdH0uZ29vZy10YWItYmFyLXRvcDphZnRlciwuZ29vZy10YWItYmFyLWJvdHRvbTphZnRlcntjb250ZW50OiIgIjtkaXNwbGF5OmJsb2NrO2hlaWdodDowO2NsZWFyOmJvdGg7dmlzaWJpbGl0eTpoaWRkZW59Lmdvb2ctdGFiLWJhci1ib3R0b20gLmdvb2ctdGFie21hcmdpbjowIDRweCAxcHggMDtib3JkZXItdG9wOjA7ZmxvYXQ6bGVmdH0uZ29vZy10YWItYmFyLXN0YXJ0IC5nb29nLXRhYnttYXJnaW46MCAwIDRweCAxcHg7Ym9yZGVyLXJpZ2h0OjB9Lmdvb2ctdGFiLWJhci1lbmQgLmdvb2ctdGFie21hcmdpbjowIDFweCA0cHggMDtib3JkZXItbGVmdDowfS5nb29nLXRhYi1ob3ZlcntiYWNrZ3JvdW5kOiNlZWV9Lmdvb2ctdGFiLWRpc2FibGVke2NvbG9yOiM2NjZ9Lmdvb2ctdGFiLXNlbGVjdGVke2NvbG9yOiMwMDA7YmFja2dyb3VuZDojZmZmO3RleHQtZGVjb3JhdGlvbjpub25lO2ZvbnQtd2VpZ2h0OmJvbGQ7Ym9yZGVyOjFweCBzb2xpZCAjNmI5MGRhfS5nb29nLXRhYi1iYXItdG9we3BhZGRpbmctdG9wOjVweCFpbXBvcnRhbnQ7cGFkZGluZy1sZWZ0OjVweCFpbXBvcnRhbnQ7Ym9yZGVyLWJvdHRvbToxcHggc29saWQgIzZiOTBkYSFpbXBvcnRhbnR9Lmdvb2ctdGFiLWJhci10b3AgLmdvb2ctdGFiLXNlbGVjdGVke3RvcDoxcHg7bWFyZ2luLXRvcDowO3BhZGRpbmctYm90dG9tOjVweH0uZ29vZy10YWItYmFyLWJvdHRvbSAuZ29vZy10YWItc2VsZWN0ZWR7dG9wOi0xcHg7bWFyZ2luLWJvdHRvbTowO3BhZGRpbmctdG9wOjVweH0uZ29vZy10YWItYmFyLXN0YXJ0IC5nb29nLXRhYi1zZWxlY3RlZHtsZWZ0OjFweDttYXJnaW4tbGVmdDowO3BhZGRpbmctcmlnaHQ6OXB4fS5nb29nLXRhYi1iYXItZW5kIC5nb29nLXRhYi1zZWxlY3RlZHtsZWZ0Oi0xcHg7bWFyZ2luLXJpZ2h0OjA7cGFkZGluZy1sZWZ0OjlweH0uZ29vZy10YWItYmFye21hcmdpbjowO2JvcmRlcjowO3BhZGRpbmc6MDtsaXN0LXN0eWxlOm5vbmU7Y3Vyc29yOmRlZmF1bHQ7b3V0bGluZTpub25lO2JhY2tncm91bmQ6I2ViZWZmOX0uZ29vZy10YWItYmFyLWNsZWFye2NsZWFyOmJvdGg7aGVpZ2h0OjA7b3ZlcmZsb3c6aGlkZGVufS5nb29nLXRhYi1iYXItc3RhcnR7ZmxvYXQ6bGVmdH0uZ29vZy10YWItYmFyLWVuZHtmbG9hdDpyaWdodH0qIGh0bWwgLmdvb2ctdGFiLWJhci1zdGFydHttYXJnaW4tcmlnaHQ6LTNweH0qIGh0bWwgLmdvb2ctdGFiLWJhci1lbmR7bWFyZ2luLWxlZnQ6LTNweH0=",
              "ok": true,
              "headers": [
                [
                  "content-length",
                  "1394"
                ],
                [
                  "content-type",
                  "text/css"
                ]
              ],
              "status": 200,
              "status_text": ""
            },
            "http://localhost:8080/nbextensions/google.colab/tabbar_main.min.js": {
              "data": "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",
              "ok": true,
              "headers": [
                [
                  "content-type",
                  "application/javascript"
                ]
              ],
              "status": 200,
              "status_text": ""
            }
          },
          "base_uri": "https://localhost:8080/",
          "height": 786
        },
        "outputId": "7b08c53e-fcce-4b2d-bd28-26118748c099"
      },
      "cell_type": "code",
      "source": [
        "#@title Parameters :\n",
        "Overlap = 5 #@param {type:\"slider\", min:0, max:10, step:1}\n",
        "\n",
        "if Overlap > lenQuery:\n",
        "  print(\"o vs l\", Overlap, \" \", lenQuery)\n",
        "  Overlap = lenQuery\n",
        "  \n",
        "nTop = len(df)\n",
        "periods = np.arange(1796,1801)\n",
        "\n",
        "def create_tab(location): \n",
        "  tb = widgets.TabBar(['Analysis', 'Charts'], location=location)\n",
        "  with tb.output_to('Analysis'):\n",
        "    ddf  = df[ df.nShared== Overlap]\n",
        "    listBlock = createBlocks(ddf)\n",
        "    txt=(\"<h4><p><b>[\" + str(np.round(Overlap/lenQuery,2)) + \" ] Found \" + str(len(ddf)) + \"/\" + str(len(df)) + \" sentences : </b></p></h4>\"   )\n",
        "    display(HTML(txt))\n",
        "    for w in listBlock:\n",
        "      #print(textwrap.fill(w,width=Text_width,  initial_indent='', subsequent_indent='    '))\n",
        "      display(HTML(w))\n",
        "  with tb.output_to(1,select=False):\n",
        "    table     = createTable(lenQuery)\n",
        "    tableYear = createTableYear(df,periods)\n",
        "    tableWord = createTableWords(df)\n",
        "\n",
        "    grid = widgets.Grid(2,3,header_row=False, header_column=False, style=output)\n",
        "    with grid.output_to(0,0):\n",
        "           display(HTML(\"<center><u>Frequence of Overlaps</u></center>\" ))\n",
        "           display(table)\n",
        "    with grid.output_to(0,1):\n",
        "           display(HTML(\"<u>Frequence Per Year</u>\" ))\n",
        "           display(tableYear)\n",
        "    with grid.output_to(0,2):\n",
        "           display(HTML(\"<center><u>Words Distribution</u></center>\" ))\n",
        "           display(tableWord)\n",
        "    with grid.output_to(1,0):\n",
        "      createChart1(df, lenQuery)\n",
        "    with grid.output_to(1,1):\n",
        "      createChart2(df, lenQuery)\n",
        "    with grid.output_to(1,2):\n",
        "      createChart3(tableWord, lenQuery)\n",
        "\n",
        "         \n",
        "\n",
        "title=setTitle(dfQuery)\n",
        "display(HTML(title))\n",
        "#parser.feed(title)\n",
        "create_tab(\"top\")\n",
        "\n",
        "\n",
        "  "
      ],
      "execution_count": 360,
      "outputs": [
        {
          "output_type": "stream",
          "text": [
            "o vs l 5   4\n"
          ],
          "name": "stdout"
        },
        {
          "output_type": "display_data",
          "data": {
            "text/html": [
              "<center><h4>Query : <b>monarchy is still an existing institution</b> </h4><i>['monarchy', 'still', 'existing', 'institution']</i></center>"
            ],
            "text/plain": [
              "<IPython.core.display.HTML object>"
            ]
          },
          "metadata": {
            "tags": []
          }
        },
        {
          "output_type": "display_data",
          "data": {
            "text/html": [
              "<link rel=stylesheet type=text/css href='/nbextensions/google.colab/tabbar.css'></link>"
            ],
            "text/plain": [
              "<IPython.core.display.HTML object>"
            ]
          },
          "metadata": {
            "tags": [
              "outputarea_id210"
            ]
          }
        },
        {
          "output_type": "display_data",
          "data": {
            "text/html": [
              "<script src='/nbextensions/google.colab/tabbar_main.min.js'></script>"
            ],
            "text/plain": [
              "<IPython.core.display.HTML object>"
            ]
          },
          "metadata": {
            "tags": [
              "outputarea_id210"
            ]
          }
        },
        {
          "output_type": "display_data",
          "data": {
            "text/html": [
              "<div id=\"id210\"></div>"
            ],
            "text/plain": [
              "<IPython.core.display.HTML object>"
            ]
          },
          "metadata": {
            "tags": [
              "outputarea_id210"
            ]
          }
        },
        {
          "output_type": "display_data",
          "data": {
            "application/javascript": [
              "window[\"5b74716c-7bb5-11e8-9283-0242ac110002\"] = colab_lib.createTabBar({\"location\": \"top\", \"elementId\": \"id210\", \"tabNames\": [\"Analysis\", \"Charts\"], \"initialSelection\": 0, \"contentBorder\": [\"0px\"], \"contentHeight\": [\"initial\"], \"borderColor\": [\"#a7a7a7\"]});\n",
              "//# sourceURL=js_d0e7e904df"
            ],
            "text/plain": [
              "<IPython.core.display.Javascript object>"
            ]
          },
          "metadata": {
            "tags": [
              "outputarea_id210"
            ]
          }
        },
        {
          "output_type": "display_data",
          "data": {
            "application/javascript": [
              "window[\"5b74c400-7bb5-11e8-9283-0242ac110002\"] = window[\"id210\"].setSelectedTabIndex(0);\n",
              "//# sourceURL=js_87c230796f"
            ],
            "text/plain": [
              "<IPython.core.display.Javascript object>"
            ]
          },
          "metadata": {
            "tags": [
              "outputarea_id210"
            ]
          }
        },
        {
          "output_type": "display_data",
          "data": {
            "application/javascript": [
              "window[\"5b76bb16-7bb5-11e8-9283-0242ac110002\"] = google.colab.output.getActiveOutputArea();\n",
              "//# sourceURL=js_ed86230162"
            ],
            "text/plain": [
              "<IPython.core.display.Javascript object>"
            ]
          },
          "metadata": {
            "tags": [
              "id210_content_0",
              "outputarea_id210"
            ]
          }
        },
        {
          "output_type": "display_data",
          "data": {
            "application/javascript": [
              "window[\"5b775b98-7bb5-11e8-9283-0242ac110002\"] = document.querySelector(\"#id210_content_0\");\n",
              "//# sourceURL=js_c0d171c3f9"
            ],
            "text/plain": [
              "<IPython.core.display.Javascript object>"
            ]
          },
          "metadata": {
            "tags": [
              "id210_content_0",
              "outputarea_id210"
            ]
          }
        },
        {
          "output_type": "display_data",
          "data": {
            "application/javascript": [
              "window[\"5b7814c0-7bb5-11e8-9283-0242ac110002\"] = google.colab.output.setActiveOutputArea(window[\"5b775b98-7bb5-11e8-9283-0242ac110002\"]);\n",
              "//# sourceURL=js_8d2b4cfba6"
            ],
            "text/plain": [
              "<IPython.core.display.Javascript object>"
            ]
          },
          "metadata": {
            "tags": [
              "id210_content_0",
              "outputarea_id210"
            ]
          }
        },
        {
          "output_type": "display_data",
          "data": {
            "application/javascript": [
              "window[\"5b784de6-7bb5-11e8-9283-0242ac110002\"] = window[\"id210\"].setSelectedTabIndex(0);\n",
              "//# sourceURL=js_232256e603"
            ],
            "text/plain": [
              "<IPython.core.display.Javascript object>"
            ]
          },
          "metadata": {
            "tags": [
              "id210_content_0",
              "outputarea_id210"
            ]
          }
        },
        {
          "output_type": "display_data",
          "data": {
            "text/html": [
              "<h4><p><b>[1.0 ] Found 0/500 sentences : </b></p></h4>"
            ],
            "text/plain": [
              "<IPython.core.display.HTML object>"
            ]
          },
          "metadata": {
            "tags": [
              "id210_content_0",
              "outputarea_id210",
              "user_output"
            ]
          }
        },
        {
          "output_type": "display_data",
          "data": {
            "application/javascript": [
              "window[\"5b7a92e0-7bb5-11e8-9283-0242ac110002\"] = google.colab.output.setActiveOutputArea(window[\"5b76bb16-7bb5-11e8-9283-0242ac110002\"]);\n",
              "//# sourceURL=js_7fc6f628dc"
            ],
            "text/plain": [
              "<IPython.core.display.Javascript object>"
            ]
          },
          "metadata": {
            "tags": [
              "id210_content_0",
              "outputarea_id210"
            ]
          }
        },
        {
          "output_type": "display_data",
          "data": {
            "application/javascript": [
              "window[\"5b7cd4c4-7bb5-11e8-9283-0242ac110002\"] = google.colab.output.getActiveOutputArea();\n",
              "//# sourceURL=js_017709b9f5"
            ],
            "text/plain": [
              "<IPython.core.display.Javascript object>"
            ]
          },
          "metadata": {
            "tags": [
              "id210_content_1",
              "outputarea_id210"
            ]
          }
        },
        {
          "output_type": "display_data",
          "data": {
            "application/javascript": [
              "window[\"5b7d233e-7bb5-11e8-9283-0242ac110002\"] = document.querySelector(\"#id210_content_1\");\n",
              "//# sourceURL=js_a8f5024bf6"
            ],
            "text/plain": [
              "<IPython.core.display.Javascript object>"
            ]
          },
          "metadata": {
            "tags": [
              "id210_content_1",
              "outputarea_id210"
            ]
          }
        },
        {
          "output_type": "display_data",
          "data": {
            "application/javascript": [
              "window[\"5b7d6bf0-7bb5-11e8-9283-0242ac110002\"] = google.colab.output.setActiveOutputArea(window[\"5b7d233e-7bb5-11e8-9283-0242ac110002\"]);\n",
              "//# sourceURL=js_2d27217d9c"
            ],
            "text/plain": [
              "<IPython.core.display.Javascript object>"
            ]
          },
          "metadata": {
            "tags": [
              "id210_content_1",
              "outputarea_id210"
            ]
          }
        },
        {
          "output_type": "display_data",
          "data": {
            "text/html": [
              "<style>\n",
              "       table#id212, #id212 > tbody > tr > th, #id212 > tbody > tr > td {\n",
              "         border: 1px solid lightgray;\n",
              "         border-collapse:collapse;\n",
              "         <module 'google.colab.output' from '/usr/local/lib/python3.6/dist-packages/google/colab/output/__init__.py'>\n",
              "        }</style>"
            ],
            "text/plain": [
              "<IPython.core.display.HTML object>"
            ]
          },
          "metadata": {
            "tags": [
              "id210_content_1",
              "outputarea_id210",
              "outputarea_id212",
              "user_output"
            ]
          }
        },
        {
          "output_type": "display_data",
          "data": {
            "text/html": [
              "<table id=id212><tr><td id=id212-0-0></td><td id=id212-0-1></td><td id=id212-0-2></td></tr><tr><td id=id212-1-0></td><td id=id212-1-1></td><td id=id212-1-2></td></tr></table>"
            ],
            "text/plain": [
              "<IPython.core.display.HTML object>"
            ]
          },
          "metadata": {
            "tags": [
              "id210_content_1",
              "outputarea_id210",
              "outputarea_id212",
              "user_output"
            ]
          }
        },
        {
          "output_type": "display_data",
          "data": {
            "application/javascript": [
              "window[\"5b8f8358-7bb5-11e8-9283-0242ac110002\"] = google.colab.output.getActiveOutputArea();\n",
              "//# sourceURL=js_7a671c3e15"
            ],
            "text/plain": [
              "<IPython.core.display.Javascript object>"
            ]
          },
          "metadata": {
            "tags": [
              "id210_content_1",
              "id212-0-0",
              "outputarea_id210",
              "outputarea_id212",
              "user_output"
            ]
          }
        },
        {
          "output_type": "display_data",
          "data": {
            "application/javascript": [
              "window[\"5b8fbfc6-7bb5-11e8-9283-0242ac110002\"] = document.querySelector(\"#id212-0-0\");\n",
              "//# sourceURL=js_8694a61d6b"
            ],
            "text/plain": [
              "<IPython.core.display.Javascript object>"
            ]
          },
          "metadata": {
            "tags": [
              "id210_content_1",
              "id212-0-0",
              "outputarea_id210",
              "outputarea_id212",
              "user_output"
            ]
          }
        },
        {
          "output_type": "display_data",
          "data": {
            "application/javascript": [
              "window[\"5b8ff838-7bb5-11e8-9283-0242ac110002\"] = google.colab.output.setActiveOutputArea(window[\"5b8fbfc6-7bb5-11e8-9283-0242ac110002\"]);\n",
              "//# sourceURL=js_16da9d72fc"
            ],
            "text/plain": [
              "<IPython.core.display.Javascript object>"
            ]
          },
          "metadata": {
            "tags": [
              "id210_content_1",
              "id212-0-0",
              "outputarea_id210",
              "outputarea_id212",
              "user_output"
            ]
          }
        },
        {
          "output_type": "display_data",
          "data": {
            "text/html": [
              "<center><u>Frequence of Overlaps</u></center>"
            ],
            "text/plain": [
              "<IPython.core.display.HTML object>"
            ]
          },
          "metadata": {
            "tags": [
              "id210_content_1",
              "id212-0-0",
              "outputarea_id210",
              "outputarea_id212",
              "user_output"
            ]
          }
        },
        {
          "output_type": "display_data",
          "data": {
            "text/html": [
              "<div>\n",
              "<style scoped>\n",
              "    .dataframe tbody tr th:only-of-type {\n",
              "        vertical-align: middle;\n",
              "    }\n",
              "\n",
              "    .dataframe tbody tr th {\n",
              "        vertical-align: top;\n",
              "    }\n",
              "\n",
              "    .dataframe thead th {\n",
              "        text-align: right;\n",
              "    }\n",
              "</style>\n",
              "<table border=\"1\" class=\"dataframe\">\n",
              "  <thead>\n",
              "    <tr style=\"text-align: right;\">\n",
              "      <th></th>\n",
              "      <th>nr. words</th>\n",
              "      <th>percent</th>\n",
              "      <th>freq</th>\n",
              "    </tr>\n",
              "  </thead>\n",
              "  <tbody>\n",
              "    <tr>\n",
              "      <th>0</th>\n",
              "      <td>0</td>\n",
              "      <td>0.00</td>\n",
              "      <td>6</td>\n",
              "    </tr>\n",
              "    <tr>\n",
              "      <th>1</th>\n",
              "      <td>1</td>\n",
              "      <td>0.25</td>\n",
              "      <td>493</td>\n",
              "    </tr>\n",
              "    <tr>\n",
              "      <th>2</th>\n",
              "      <td>2</td>\n",
              "      <td>0.50</td>\n",
              "      <td>1</td>\n",
              "    </tr>\n",
              "    <tr>\n",
              "      <th>3</th>\n",
              "      <td>3</td>\n",
              "      <td>0.75</td>\n",
              "      <td>0</td>\n",
              "    </tr>\n",
              "    <tr>\n",
              "      <th>4</th>\n",
              "      <td>4</td>\n",
              "      <td>1.00</td>\n",
              "      <td>0</td>\n",
              "    </tr>\n",
              "  </tbody>\n",
              "</table>\n",
              "</div>"
            ],
            "text/plain": [
              "   nr. words  percent  freq\n",
              "0          0     0.00     6\n",
              "1          1     0.25   493\n",
              "2          2     0.50     1\n",
              "3          3     0.75     0\n",
              "4          4     1.00     0"
            ]
          },
          "metadata": {
            "tags": [
              "id210_content_1",
              "id212-0-0",
              "outputarea_id210",
              "outputarea_id212",
              "user_output"
            ]
          }
        },
        {
          "output_type": "display_data",
          "data": {
            "application/javascript": [
              "window[\"5b91d950-7bb5-11e8-9283-0242ac110002\"] = google.colab.output.setActiveOutputArea(window[\"5b8f8358-7bb5-11e8-9283-0242ac110002\"]);\n",
              "//# sourceURL=js_889ae38080"
            ],
            "text/plain": [
              "<IPython.core.display.Javascript object>"
            ]
          },
          "metadata": {
            "tags": [
              "id210_content_1",
              "id212-0-0",
              "outputarea_id210",
              "outputarea_id212",
              "user_output"
            ]
          }
        },
        {
          "output_type": "display_data",
          "data": {
            "application/javascript": [
              "window[\"5b92e64c-7bb5-11e8-9283-0242ac110002\"] = google.colab.output.getActiveOutputArea();\n",
              "//# sourceURL=js_a0acbeace4"
            ],
            "text/plain": [
              "<IPython.core.display.Javascript object>"
            ]
          },
          "metadata": {
            "tags": [
              "id210_content_1",
              "id212-0-1",
              "outputarea_id210",
              "outputarea_id212",
              "user_output"
            ]
          }
        },
        {
          "output_type": "display_data",
          "data": {
            "application/javascript": [
              "window[\"5b931e6e-7bb5-11e8-9283-0242ac110002\"] = document.querySelector(\"#id212-0-1\");\n",
              "//# sourceURL=js_1ba73f03d4"
            ],
            "text/plain": [
              "<IPython.core.display.Javascript object>"
            ]
          },
          "metadata": {
            "tags": [
              "id210_content_1",
              "id212-0-1",
              "outputarea_id210",
              "outputarea_id212",
              "user_output"
            ]
          }
        },
        {
          "output_type": "display_data",
          "data": {
            "application/javascript": [
              "window[\"5b938ebc-7bb5-11e8-9283-0242ac110002\"] = google.colab.output.setActiveOutputArea(window[\"5b931e6e-7bb5-11e8-9283-0242ac110002\"]);\n",
              "//# sourceURL=js_b9bfc1b02d"
            ],
            "text/plain": [
              "<IPython.core.display.Javascript object>"
            ]
          },
          "metadata": {
            "tags": [
              "id210_content_1",
              "id212-0-1",
              "outputarea_id210",
              "outputarea_id212",
              "user_output"
            ]
          }
        },
        {
          "output_type": "display_data",
          "data": {
            "text/html": [
              "<u>Frequence Per Year</u>"
            ],
            "text/plain": [
              "<IPython.core.display.HTML object>"
            ]
          },
          "metadata": {
            "tags": [
              "id210_content_1",
              "id212-0-1",
              "outputarea_id210",
              "outputarea_id212",
              "user_output"
            ]
          }
        },
        {
          "output_type": "display_data",
          "data": {
            "text/html": [
              "<div>\n",
              "<style scoped>\n",
              "    .dataframe tbody tr th:only-of-type {\n",
              "        vertical-align: middle;\n",
              "    }\n",
              "\n",
              "    .dataframe tbody tr th {\n",
              "        vertical-align: top;\n",
              "    }\n",
              "\n",
              "    .dataframe thead th {\n",
              "        text-align: right;\n",
              "    }\n",
              "</style>\n",
              "<table border=\"1\" class=\"dataframe\">\n",
              "  <thead>\n",
              "    <tr style=\"text-align: right;\">\n",
              "      <th></th>\n",
              "      <th>year</th>\n",
              "      <th>freq</th>\n",
              "    </tr>\n",
              "  </thead>\n",
              "  <tbody>\n",
              "    <tr>\n",
              "      <th>0</th>\n",
              "      <td>1796</td>\n",
              "      <td>500</td>\n",
              "    </tr>\n",
              "    <tr>\n",
              "      <th>1</th>\n",
              "      <td>1797</td>\n",
              "      <td>0</td>\n",
              "    </tr>\n",
              "    <tr>\n",
              "      <th>2</th>\n",
              "      <td>1798</td>\n",
              "      <td>0</td>\n",
              "    </tr>\n",
              "    <tr>\n",
              "      <th>3</th>\n",
              "      <td>1799</td>\n",
              "      <td>0</td>\n",
              "    </tr>\n",
              "    <tr>\n",
              "      <th>4</th>\n",
              "      <td>1800</td>\n",
              "      <td>0</td>\n",
              "    </tr>\n",
              "  </tbody>\n",
              "</table>\n",
              "</div>"
            ],
            "text/plain": [
              "   year  freq\n",
              "0  1796   500\n",
              "1  1797     0\n",
              "2  1798     0\n",
              "3  1799     0\n",
              "4  1800     0"
            ]
          },
          "metadata": {
            "tags": [
              "id210_content_1",
              "id212-0-1",
              "outputarea_id210",
              "outputarea_id212",
              "user_output"
            ]
          }
        },
        {
          "output_type": "display_data",
          "data": {
            "application/javascript": [
              "window[\"5b95146c-7bb5-11e8-9283-0242ac110002\"] = google.colab.output.setActiveOutputArea(window[\"5b92e64c-7bb5-11e8-9283-0242ac110002\"]);\n",
              "//# sourceURL=js_00b1ee1c12"
            ],
            "text/plain": [
              "<IPython.core.display.Javascript object>"
            ]
          },
          "metadata": {
            "tags": [
              "id210_content_1",
              "id212-0-1",
              "outputarea_id210",
              "outputarea_id212",
              "user_output"
            ]
          }
        },
        {
          "output_type": "display_data",
          "data": {
            "application/javascript": [
              "window[\"5b96151a-7bb5-11e8-9283-0242ac110002\"] = google.colab.output.getActiveOutputArea();\n",
              "//# sourceURL=js_8e03474f4a"
            ],
            "text/plain": [
              "<IPython.core.display.Javascript object>"
            ]
          },
          "metadata": {
            "tags": [
              "id210_content_1",
              "id212-0-2",
              "outputarea_id210",
              "outputarea_id212",
              "user_output"
            ]
          }
        },
        {
          "output_type": "display_data",
          "data": {
            "application/javascript": [
              "window[\"5b9646c0-7bb5-11e8-9283-0242ac110002\"] = document.querySelector(\"#id212-0-2\");\n",
              "//# sourceURL=js_32ba3edb99"
            ],
            "text/plain": [
              "<IPython.core.display.Javascript object>"
            ]
          },
          "metadata": {
            "tags": [
              "id210_content_1",
              "id212-0-2",
              "outputarea_id210",
              "outputarea_id212",
              "user_output"
            ]
          }
        },
        {
          "output_type": "display_data",
          "data": {
            "application/javascript": [
              "window[\"5b9676cc-7bb5-11e8-9283-0242ac110002\"] = google.colab.output.setActiveOutputArea(window[\"5b9646c0-7bb5-11e8-9283-0242ac110002\"]);\n",
              "//# sourceURL=js_b19a5c7950"
            ],
            "text/plain": [
              "<IPython.core.display.Javascript object>"
            ]
          },
          "metadata": {
            "tags": [
              "id210_content_1",
              "id212-0-2",
              "outputarea_id210",
              "outputarea_id212",
              "user_output"
            ]
          }
        },
        {
          "output_type": "display_data",
          "data": {
            "text/html": [
              "<center><u>Words Distribution</u></center>"
            ],
            "text/plain": [
              "<IPython.core.display.HTML object>"
            ]
          },
          "metadata": {
            "tags": [
              "id210_content_1",
              "id212-0-2",
              "outputarea_id210",
              "outputarea_id212",
              "user_output"
            ]
          }
        },
        {
          "output_type": "display_data",
          "data": {
            "text/html": [
              "<div>\n",
              "<style scoped>\n",
              "    .dataframe tbody tr th:only-of-type {\n",
              "        vertical-align: middle;\n",
              "    }\n",
              "\n",
              "    .dataframe tbody tr th {\n",
              "        vertical-align: top;\n",
              "    }\n",
              "\n",
              "    .dataframe thead th {\n",
              "        text-align: right;\n",
              "    }\n",
              "</style>\n",
              "<table border=\"1\" class=\"dataframe\">\n",
              "  <thead>\n",
              "    <tr style=\"text-align: right;\">\n",
              "      <th></th>\n",
              "      <th>word</th>\n",
              "      <th>percent</th>\n",
              "      <th>freq</th>\n",
              "    </tr>\n",
              "  </thead>\n",
              "  <tbody>\n",
              "    <tr>\n",
              "      <th>0</th>\n",
              "      <td>still</td>\n",
              "      <td>0.750</td>\n",
              "      <td>375</td>\n",
              "    </tr>\n",
              "    <tr>\n",
              "      <th>1</th>\n",
              "      <td>monarchy</td>\n",
              "      <td>0.220</td>\n",
              "      <td>110</td>\n",
              "    </tr>\n",
              "    <tr>\n",
              "      <th>2</th>\n",
              "      <td>government</td>\n",
              "      <td>0.060</td>\n",
              "      <td>30</td>\n",
              "    </tr>\n",
              "    <tr>\n",
              "      <th>3</th>\n",
              "      <td>remains</td>\n",
              "      <td>0.036</td>\n",
              "      <td>18</td>\n",
              "    </tr>\n",
              "    <tr>\n",
              "      <th>4</th>\n",
              "      <td>may</td>\n",
              "      <td>0.034</td>\n",
              "      <td>17</td>\n",
              "    </tr>\n",
              "    <tr>\n",
              "      <th>5</th>\n",
              "      <td>limited</td>\n",
              "      <td>0.032</td>\n",
              "      <td>16</td>\n",
              "    </tr>\n",
              "    <tr>\n",
              "      <th>6</th>\n",
              "      <td>however</td>\n",
              "      <td>0.032</td>\n",
              "      <td>16</td>\n",
              "    </tr>\n",
              "    <tr>\n",
              "      <th>7</th>\n",
              "      <td>form</td>\n",
              "      <td>0.026</td>\n",
              "      <td>13</td>\n",
              "    </tr>\n",
              "    <tr>\n",
              "      <th>8</th>\n",
              "      <td>institution</td>\n",
              "      <td>0.024</td>\n",
              "      <td>12</td>\n",
              "    </tr>\n",
              "    <tr>\n",
              "      <th>9</th>\n",
              "      <td>french</td>\n",
              "      <td>0.022</td>\n",
              "      <td>11</td>\n",
              "    </tr>\n",
              "  </tbody>\n",
              "</table>\n",
              "</div>"
            ],
            "text/plain": [
              "          word  percent  freq\n",
              "0        still    0.750   375\n",
              "1     monarchy    0.220   110\n",
              "2   government    0.060    30\n",
              "3      remains    0.036    18\n",
              "4          may    0.034    17\n",
              "5      limited    0.032    16\n",
              "6      however    0.032    16\n",
              "7         form    0.026    13\n",
              "8  institution    0.024    12\n",
              "9       french    0.022    11"
            ]
          },
          "metadata": {
            "tags": [
              "id210_content_1",
              "id212-0-2",
              "outputarea_id210",
              "outputarea_id212",
              "user_output"
            ]
          }
        },
        {
          "output_type": "display_data",
          "data": {
            "application/javascript": [
              "window[\"5b984326-7bb5-11e8-9283-0242ac110002\"] = google.colab.output.setActiveOutputArea(window[\"5b96151a-7bb5-11e8-9283-0242ac110002\"]);\n",
              "//# sourceURL=js_3c9dfef4d9"
            ],
            "text/plain": [
              "<IPython.core.display.Javascript object>"
            ]
          },
          "metadata": {
            "tags": [
              "id210_content_1",
              "id212-0-2",
              "outputarea_id210",
              "outputarea_id212",
              "user_output"
            ]
          }
        },
        {
          "output_type": "display_data",
          "data": {
            "application/javascript": [
              "window[\"5b994492-7bb5-11e8-9283-0242ac110002\"] = google.colab.output.getActiveOutputArea();\n",
              "//# sourceURL=js_fcf5b5f218"
            ],
            "text/plain": [
              "<IPython.core.display.Javascript object>"
            ]
          },
          "metadata": {
            "tags": [
              "id210_content_1",
              "id212-1-0",
              "outputarea_id210",
              "outputarea_id212",
              "user_output"
            ]
          }
        },
        {
          "output_type": "display_data",
          "data": {
            "application/javascript": [
              "window[\"5b997a2a-7bb5-11e8-9283-0242ac110002\"] = document.querySelector(\"#id212-1-0\");\n",
              "//# sourceURL=js_d3fe7cad8f"
            ],
            "text/plain": [
              "<IPython.core.display.Javascript object>"
            ]
          },
          "metadata": {
            "tags": [
              "id210_content_1",
              "id212-1-0",
              "outputarea_id210",
              "outputarea_id212",
              "user_output"
            ]
          }
        },
        {
          "output_type": "display_data",
          "data": {
            "application/javascript": [
              "window[\"5b99a82e-7bb5-11e8-9283-0242ac110002\"] = google.colab.output.setActiveOutputArea(window[\"5b997a2a-7bb5-11e8-9283-0242ac110002\"]);\n",
              "//# sourceURL=js_590ad0a644"
            ],
            "text/plain": [
              "<IPython.core.display.Javascript object>"
            ]
          },
          "metadata": {
            "tags": [
              "id210_content_1",
              "id212-1-0",
              "outputarea_id210",
              "outputarea_id212",
              "user_output"
            ]
          }
        },
        {
          "output_type": "display_data",
          "data": {
            "image/png": "[encoded data removed]",
            "text/plain": [
              "<matplotlib.figure.Figure at 0x7fb005a286a0>"
            ]
          },
          "metadata": {
            "tags": [
              "id210_content_1",
              "id212-1-0",
              "outputarea_id210",
              "outputarea_id212",
              "user_output"
            ]
          }
        },
        {
          "output_type": "display_data",
          "data": {
            "application/javascript": [
              "window[\"5bae2f10-7bb5-11e8-9283-0242ac110002\"] = google.colab.output.setActiveOutputArea(window[\"5b994492-7bb5-11e8-9283-0242ac110002\"]);\n",
              "//# sourceURL=js_7ab8c2c4d0"
            ],
            "text/plain": [
              "<IPython.core.display.Javascript object>"
            ]
          },
          "metadata": {
            "tags": [
              "id210_content_1",
              "id212-1-0",
              "outputarea_id210",
              "outputarea_id212",
              "user_output"
            ]
          }
        },
        {
          "output_type": "display_data",
          "data": {
            "application/javascript": [
              "window[\"5bb1495c-7bb5-11e8-9283-0242ac110002\"] = google.colab.output.getActiveOutputArea();\n",
              "//# sourceURL=js_7c0e204587"
            ],
            "text/plain": [
              "<IPython.core.display.Javascript object>"
            ]
          },
          "metadata": {
            "tags": [
              "id210_content_1",
              "id212-1-1",
              "outputarea_id210",
              "outputarea_id212",
              "user_output"
            ]
          }
        },
        {
          "output_type": "display_data",
          "data": {
            "application/javascript": [
              "window[\"5bb2f3d8-7bb5-11e8-9283-0242ac110002\"] = document.querySelector(\"#id212-1-1\");\n",
              "//# sourceURL=js_4b04785c87"
            ],
            "text/plain": [
              "<IPython.core.display.Javascript object>"
            ]
          },
          "metadata": {
            "tags": [
              "id210_content_1",
              "id212-1-1",
              "outputarea_id210",
              "outputarea_id212",
              "user_output"
            ]
          }
        },
        {
          "output_type": "display_data",
          "data": {
            "application/javascript": [
              "window[\"5bb3f31e-7bb5-11e8-9283-0242ac110002\"] = google.colab.output.setActiveOutputArea(window[\"5bb2f3d8-7bb5-11e8-9283-0242ac110002\"]);\n",
              "//# sourceURL=js_6bcaea4ab6"
            ],
            "text/plain": [
              "<IPython.core.display.Javascript object>"
            ]
          },
          "metadata": {
            "tags": [
              "id210_content_1",
              "id212-1-1",
              "outputarea_id210",
              "outputarea_id212",
              "user_output"
            ]
          }
        },
        {
          "output_type": "display_data",
          "data": {
            "image/png": "[encoded data removed]",
            "text/plain": [
              "<matplotlib.figure.Figure at 0x7fb00579fa90>"
            ]
          },
          "metadata": {
            "tags": [
              "id210_content_1",
              "id212-1-1",
              "outputarea_id210",
              "outputarea_id212",
              "user_output"
            ]
          }
        },
        {
          "output_type": "display_data",
          "data": {
            "application/javascript": [
              "window[\"5bc84134-7bb5-11e8-9283-0242ac110002\"] = google.colab.output.setActiveOutputArea(window[\"5bb1495c-7bb5-11e8-9283-0242ac110002\"]);\n",
              "//# sourceURL=js_d44e2f141b"
            ],
            "text/plain": [
              "<IPython.core.display.Javascript object>"
            ]
          },
          "metadata": {
            "tags": [
              "id210_content_1",
              "id212-1-1",
              "outputarea_id210",
              "outputarea_id212",
              "user_output"
            ]
          }
        },
        {
          "output_type": "display_data",
          "data": {
            "application/javascript": [
              "window[\"5bcb6d46-7bb5-11e8-9283-0242ac110002\"] = google.colab.output.getActiveOutputArea();\n",
              "//# sourceURL=js_79fb3c6fe4"
            ],
            "text/plain": [
              "<IPython.core.display.Javascript object>"
            ]
          },
          "metadata": {
            "tags": [
              "id210_content_1",
              "id212-1-2",
              "outputarea_id210",
              "outputarea_id212",
              "user_output"
            ]
          }
        },
        {
          "output_type": "display_data",
          "data": {
            "application/javascript": [
              "window[\"5bcbf450-7bb5-11e8-9283-0242ac110002\"] = document.querySelector(\"#id212-1-2\");\n",
              "//# sourceURL=js_2ba7107c4f"
            ],
            "text/plain": [
              "<IPython.core.display.Javascript object>"
            ]
          },
          "metadata": {
            "tags": [
              "id210_content_1",
              "id212-1-2",
              "outputarea_id210",
              "outputarea_id212",
              "user_output"
            ]
          }
        },
        {
          "output_type": "display_data",
          "data": {
            "application/javascript": [
              "window[\"5bcc7d58-7bb5-11e8-9283-0242ac110002\"] = google.colab.output.setActiveOutputArea(window[\"5bcbf450-7bb5-11e8-9283-0242ac110002\"]);\n",
              "//# sourceURL=js_c3177f6d8c"
            ],
            "text/plain": [
              "<IPython.core.display.Javascript object>"
            ]
          },
          "metadata": {
            "tags": [
              "id210_content_1",
              "id212-1-2",
              "outputarea_id210",
              "outputarea_id212",
              "user_output"
            ]
          }
        },
        {
          "output_type": "display_data",
          "data": {
            "image/png": "[encoded data removed]",
            "text/plain": [
              "<matplotlib.figure.Figure at 0x7fb005646be0>"
            ]
          },
          "metadata": {
            "tags": [
              "id210_content_1",
              "id212-1-2",
              "outputarea_id210",
              "outputarea_id212",
              "user_output"
            ]
          }
        },
        {
          "output_type": "display_data",
          "data": {
            "application/javascript": [
              "window[\"5beacef2-7bb5-11e8-9283-0242ac110002\"] = google.colab.output.setActiveOutputArea(window[\"5bcb6d46-7bb5-11e8-9283-0242ac110002\"]);\n",
              "//# sourceURL=js_0ec7e98be7"
            ],
            "text/plain": [
              "<IPython.core.display.Javascript object>"
            ]
          },
          "metadata": {
            "tags": [
              "id210_content_1",
              "id212-1-2",
              "outputarea_id210",
              "outputarea_id212",
              "user_output"
            ]
          }
        },
        {
          "output_type": "display_data",
          "data": {
            "application/javascript": [
              "window[\"5bed20bc-7bb5-11e8-9283-0242ac110002\"] = google.colab.output.setActiveOutputArea(window[\"5b7cd4c4-7bb5-11e8-9283-0242ac110002\"]);\n",
              "//# sourceURL=js_a6fe9916ce"
            ],
            "text/plain": [
              "<IPython.core.display.Javascript object>"
            ]
          },
          "metadata": {
            "tags": [
              "id210_content_1",
              "outputarea_id210"
            ]
          }
        }
      ]
    },
    {
      "metadata": {
        "id": "hNQGp4jDLGsK",
        "colab_type": "code",
        "colab": {
          "base_uri": "https://localhost:8080/",
          "height": 16
        },
        "outputId": "5840b070-b4b5-4812-9342-e3684db5bd6a"
      },
      "cell_type": "code",
      "source": [
        "CSS = \"\"\"\n",
        ".output {\n",
        "        border: 10px solid green;\n",
        "}\n",
        "\"\"\"\n",
        "\n"
      ],
      "execution_count": 356,
      "outputs": []
    }
  ]
}